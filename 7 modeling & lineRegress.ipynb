{
 "cells": [
  {
   "cell_type": "code",
   "execution_count": 2,
   "metadata": {},
   "outputs": [],
   "source": [
    "from bs4 import BeautifulSoup as bs\n",
    "import datetime as dt\n",
    "from urllib.request import urlopen"
   ]
  },
  {
   "cell_type": "code",
   "execution_count": 3,
   "metadata": {},
   "outputs": [],
   "source": [
    "def date_format(d):\n",
    "    d = str(d).replace('-','.')\n",
    "    yyyy = int(d.split('.')[0])\n",
    "    mm = int(d.split('.')[1])\n",
    "    dd = int(d.split('.')[2])\n",
    "    this_date = dt.date(yyyy,mm,dd)\n",
    "    return this_date"
   ]
  },
  {
   "cell_type": "code",
   "execution_count": 4,
   "metadata": {},
   "outputs": [],
   "source": [
    "\n",
    "def his_naver_index(his_prices, index_cd, start_date='', end_date='', page_n=1, last_page=0):\n",
    "    #date 정리\n",
    "    if start_date :\n",
    "        start_date = date_format(start_date)\n",
    "    else :\n",
    "        start_date = dt.date.today()\n",
    "    if end_date :\n",
    "        end_date = date_format(end_date)\n",
    "    else :\n",
    "        end_date = dt.date.today()\n",
    "    # bs 하기 및 저장\n",
    "    naver_index = 'http://finance.naver.com/sise/sise_index_day.nhn?code=' + index_cd + '&page=' + str(page_n)\n",
    "    source = urlopen(naver_index).read()\n",
    "    source = bs(source,'lxml') # .prettify\n",
    "    dates = source.find_all('td',class_=\"date\")\n",
    "    prices = source.find_all('td',class_=\"number_1\")\n",
    "    # 사이값만 저장하기\n",
    "    for n in range(len(dates)):\n",
    "        # 날짜 처리 및 확인\n",
    "        this_date = dates[n].text\n",
    "        if this_date.split('.')[0].isdigit() :\n",
    "            this_date = date_format(this_date)\n",
    "            if start_date <= this_date and end_date >= this_date:\n",
    "                this_price = float(prices[4*n].text.replace(',','')) # '23,429.30' -> 23429.30 (float)\n",
    "                his_prices[this_date] = this_price # 딕셔너리에 저장\n",
    "            elif start_date > this_date :\n",
    "                return his_prices\n",
    "        #마지막페이지 주소 추출\n",
    "    if last_page == 0 :\n",
    "        last_page = source.find('td',class_='pgRR').find('a')['href']\n",
    "        # '/sise/sise_index_day.nhn?code=KPI200&page=547' - > 547\n",
    "        last_page = last_page.split('&')[1].split('=')[1]\n",
    "        last_page = int(last_page)\n",
    "    # 다음 페이지 호출\n",
    "    if last_page > page_n :\n",
    "        page_n = page_n + 1\n",
    "        his_naver_index(his_prices,index_cd, start_date, end_date, page_n, last_page)\n",
    "    return his_prices\n"
   ]
  },
  {
   "cell_type": "code",
   "execution_count": 5,
   "metadata": {},
   "outputs": [
    {
     "data": {
      "text/plain": [
       "{datetime.date(2019, 4, 4): 286.15,\n",
       " datetime.date(2019, 4, 3): 285.65,\n",
       " datetime.date(2019, 4, 2): 281.72,\n",
       " datetime.date(2019, 4, 1): 280.32,\n",
       " datetime.date(2019, 3, 29): 276.48,\n",
       " datetime.date(2019, 3, 28): 275.08,\n",
       " datetime.date(2019, 3, 27): 277.28,\n",
       " datetime.date(2019, 3, 26): 277.6,\n",
       " datetime.date(2019, 3, 25): 277.45,\n",
       " datetime.date(2019, 3, 22): 283.13,\n",
       " datetime.date(2019, 3, 21): 282.38,\n",
       " datetime.date(2019, 3, 20): 279.92,\n",
       " datetime.date(2019, 3, 19): 279.82,\n",
       " datetime.date(2019, 3, 18): 279.93,\n",
       " datetime.date(2019, 3, 15): 279.87,\n",
       " datetime.date(2019, 3, 14): 276.64,\n",
       " datetime.date(2019, 3, 13): 276.0,\n",
       " datetime.date(2019, 3, 12): 277.73,\n",
       " datetime.date(2019, 3, 11): 275.06,\n",
       " datetime.date(2019, 3, 8): 274.84,\n",
       " datetime.date(2019, 3, 7): 278.87,\n",
       " datetime.date(2019, 3, 6): 279.85,\n",
       " datetime.date(2019, 3, 5): 280.45,\n",
       " datetime.date(2019, 3, 4): 282.51,\n",
       " datetime.date(2019, 2, 28): 283.8,\n",
       " datetime.date(2019, 2, 27): 288.76,\n",
       " datetime.date(2019, 2, 26): 287.89,\n",
       " datetime.date(2019, 2, 25): 289.0,\n",
       " datetime.date(2019, 2, 22): 288.74,\n",
       " datetime.date(2019, 2, 21): 288.41,\n",
       " datetime.date(2019, 2, 20): 288.4,\n",
       " datetime.date(2019, 2, 19): 284.91,\n",
       " datetime.date(2019, 2, 18): 285.9,\n",
       " datetime.date(2019, 2, 15): 283.98,\n",
       " datetime.date(2019, 2, 14): 288.68,\n",
       " datetime.date(2019, 2, 13): 284.97,\n",
       " datetime.date(2019, 2, 12): 283.69,\n",
       " datetime.date(2019, 2, 11): 282.1,\n",
       " datetime.date(2019, 2, 8): 281.49,\n",
       " datetime.date(2019, 2, 7): 285.65,\n",
       " datetime.date(2019, 2, 1): 285.79}"
      ]
     },
     "execution_count": 5,
     "metadata": {},
     "output_type": "execute_result"
    }
   ],
   "source": [
    "index_cd = 'KPI200'\n",
    "KPI_prices = dict()\n",
    "his_naver_index(KPI_prices,index_cd,\"2019-2-1\",\"2019-4-4\")\n",
    "KPI_prices"
   ]
  },
  {
   "cell_type": "code",
   "execution_count": 6,
   "metadata": {},
   "outputs": [
    {
     "data": {
      "text/plain": [
       "{datetime.date(2019, 4, 4): 751.58,\n",
       " datetime.date(2019, 4, 3): 749.3,\n",
       " datetime.date(2019, 4, 2): 739.57,\n",
       " datetime.date(2019, 4, 1): 736.81,\n",
       " datetime.date(2019, 3, 29): 729.31,\n",
       " datetime.date(2019, 3, 28): 719.72,\n",
       " datetime.date(2019, 3, 27): 728.45,\n",
       " datetime.date(2019, 3, 26): 736.81,\n",
       " datetime.date(2019, 3, 25): 727.21,\n",
       " datetime.date(2019, 3, 22): 743.97,\n",
       " datetime.date(2019, 3, 21): 743.52,\n",
       " datetime.date(2019, 3, 20): 749.76,\n",
       " datetime.date(2019, 3, 19): 748.91,\n",
       " datetime.date(2019, 3, 18): 753.13,\n",
       " datetime.date(2019, 3, 15): 748.36,\n",
       " datetime.date(2019, 3, 14): 755.42,\n",
       " datetime.date(2019, 3, 13): 754.89,\n",
       " datetime.date(2019, 3, 12): 754.76,\n",
       " datetime.date(2019, 3, 11): 739.09,\n",
       " datetime.date(2019, 3, 8): 735.97,\n",
       " datetime.date(2019, 3, 7): 736.83,\n",
       " datetime.date(2019, 3, 6): 746.7,\n",
       " datetime.date(2019, 3, 5): 747.95,\n",
       " datetime.date(2019, 3, 4): 748.07,\n",
       " datetime.date(2019, 2, 28): 731.25,\n",
       " datetime.date(2019, 2, 27): 752.16,\n",
       " datetime.date(2019, 2, 26): 747.09,\n",
       " datetime.date(2019, 2, 25): 750.4,\n",
       " datetime.date(2019, 2, 22): 743.38,\n",
       " datetime.date(2019, 2, 21): 747.33,\n",
       " datetime.date(2019, 2, 20): 750.69,\n",
       " datetime.date(2019, 2, 19): 748.05,\n",
       " datetime.date(2019, 2, 18): 745.33,\n",
       " datetime.date(2019, 2, 15): 738.66,\n",
       " datetime.date(2019, 2, 14): 742.27,\n",
       " datetime.date(2019, 2, 13): 739.91,\n",
       " datetime.date(2019, 2, 12): 730.58,\n",
       " datetime.date(2019, 2, 11): 733.47,\n",
       " datetime.date(2019, 2, 8): 728.74,\n",
       " datetime.date(2019, 2, 7): 728.79,\n",
       " datetime.date(2019, 2, 1): 716.92}"
      ]
     },
     "execution_count": 6,
     "metadata": {},
     "output_type": "execute_result"
    }
   ],
   "source": [
    "index_kosdaq = 'KOSDAQ'\n",
    "DAQ_prices = dict()\n",
    "his_naver_index(DAQ_prices,index_kosdaq,\"2019-2-1\",\"2019-4-4\")\n",
    "DAQ_prices"
   ]
  },
  {
   "cell_type": "code",
   "execution_count": 7,
   "metadata": {},
   "outputs": [],
   "source": [
    "#데이터 프레임으로 여러 딕셔너리 테이블 하나로 합치기"
   ]
  },
  {
   "cell_type": "code",
   "execution_count": 8,
   "metadata": {
    "scrolled": true
   },
   "outputs": [
    {
     "data": {
      "text/plain": [
       "{'KPI200': {datetime.date(2019, 4, 4): 286.15,\n",
       "  datetime.date(2019, 4, 3): 285.65,\n",
       "  datetime.date(2019, 4, 2): 281.72,\n",
       "  datetime.date(2019, 4, 1): 280.32,\n",
       "  datetime.date(2019, 3, 29): 276.48,\n",
       "  datetime.date(2019, 3, 28): 275.08,\n",
       "  datetime.date(2019, 3, 27): 277.28,\n",
       "  datetime.date(2019, 3, 26): 277.6,\n",
       "  datetime.date(2019, 3, 25): 277.45,\n",
       "  datetime.date(2019, 3, 22): 283.13,\n",
       "  datetime.date(2019, 3, 21): 282.38,\n",
       "  datetime.date(2019, 3, 20): 279.92,\n",
       "  datetime.date(2019, 3, 19): 279.82,\n",
       "  datetime.date(2019, 3, 18): 279.93,\n",
       "  datetime.date(2019, 3, 15): 279.87,\n",
       "  datetime.date(2019, 3, 14): 276.64,\n",
       "  datetime.date(2019, 3, 13): 276.0,\n",
       "  datetime.date(2019, 3, 12): 277.73,\n",
       "  datetime.date(2019, 3, 11): 275.06,\n",
       "  datetime.date(2019, 3, 8): 274.84,\n",
       "  datetime.date(2019, 3, 7): 278.87,\n",
       "  datetime.date(2019, 3, 6): 279.85,\n",
       "  datetime.date(2019, 3, 5): 280.45,\n",
       "  datetime.date(2019, 3, 4): 282.51,\n",
       "  datetime.date(2019, 2, 28): 283.8,\n",
       "  datetime.date(2019, 2, 27): 288.76,\n",
       "  datetime.date(2019, 2, 26): 287.89,\n",
       "  datetime.date(2019, 2, 25): 289.0,\n",
       "  datetime.date(2019, 2, 22): 288.74,\n",
       "  datetime.date(2019, 2, 21): 288.41,\n",
       "  datetime.date(2019, 2, 20): 288.4,\n",
       "  datetime.date(2019, 2, 19): 284.91,\n",
       "  datetime.date(2019, 2, 18): 285.9,\n",
       "  datetime.date(2019, 2, 15): 283.98,\n",
       "  datetime.date(2019, 2, 14): 288.68,\n",
       "  datetime.date(2019, 2, 13): 284.97,\n",
       "  datetime.date(2019, 2, 12): 283.69,\n",
       "  datetime.date(2019, 2, 11): 282.1,\n",
       "  datetime.date(2019, 2, 8): 281.49,\n",
       "  datetime.date(2019, 2, 7): 285.65,\n",
       "  datetime.date(2019, 2, 1): 285.79},\n",
       " 'KOSDAQ': {datetime.date(2019, 4, 4): 751.58,\n",
       "  datetime.date(2019, 4, 3): 749.3,\n",
       "  datetime.date(2019, 4, 2): 739.57,\n",
       "  datetime.date(2019, 4, 1): 736.81,\n",
       "  datetime.date(2019, 3, 29): 729.31,\n",
       "  datetime.date(2019, 3, 28): 719.72,\n",
       "  datetime.date(2019, 3, 27): 728.45,\n",
       "  datetime.date(2019, 3, 26): 736.81,\n",
       "  datetime.date(2019, 3, 25): 727.21,\n",
       "  datetime.date(2019, 3, 22): 743.97,\n",
       "  datetime.date(2019, 3, 21): 743.52,\n",
       "  datetime.date(2019, 3, 20): 749.76,\n",
       "  datetime.date(2019, 3, 19): 748.91,\n",
       "  datetime.date(2019, 3, 18): 753.13,\n",
       "  datetime.date(2019, 3, 15): 748.36,\n",
       "  datetime.date(2019, 3, 14): 755.42,\n",
       "  datetime.date(2019, 3, 13): 754.89,\n",
       "  datetime.date(2019, 3, 12): 754.76,\n",
       "  datetime.date(2019, 3, 11): 739.09,\n",
       "  datetime.date(2019, 3, 8): 735.97,\n",
       "  datetime.date(2019, 3, 7): 736.83,\n",
       "  datetime.date(2019, 3, 6): 746.7,\n",
       "  datetime.date(2019, 3, 5): 747.95,\n",
       "  datetime.date(2019, 3, 4): 748.07,\n",
       "  datetime.date(2019, 2, 28): 731.25,\n",
       "  datetime.date(2019, 2, 27): 752.16,\n",
       "  datetime.date(2019, 2, 26): 747.09,\n",
       "  datetime.date(2019, 2, 25): 750.4,\n",
       "  datetime.date(2019, 2, 22): 743.38,\n",
       "  datetime.date(2019, 2, 21): 747.33,\n",
       "  datetime.date(2019, 2, 20): 750.69,\n",
       "  datetime.date(2019, 2, 19): 748.05,\n",
       "  datetime.date(2019, 2, 18): 745.33,\n",
       "  datetime.date(2019, 2, 15): 738.66,\n",
       "  datetime.date(2019, 2, 14): 742.27,\n",
       "  datetime.date(2019, 2, 13): 739.91,\n",
       "  datetime.date(2019, 2, 12): 730.58,\n",
       "  datetime.date(2019, 2, 11): 733.47,\n",
       "  datetime.date(2019, 2, 8): 728.74,\n",
       "  datetime.date(2019, 2, 7): 728.79,\n",
       "  datetime.date(2019, 2, 1): 716.92}}"
      ]
     },
     "execution_count": 8,
     "metadata": {},
     "output_type": "execute_result"
    }
   ],
   "source": [
    "tmp ={'KPI200' : KPI_prices, 'KOSDAQ' : DAQ_prices}\n",
    "tmp"
   ]
  },
  {
   "cell_type": "code",
   "execution_count": 9,
   "metadata": {
    "scrolled": true
   },
   "outputs": [
    {
     "data": {
      "text/html": [
       "<div>\n",
       "<style scoped>\n",
       "    .dataframe tbody tr th:only-of-type {\n",
       "        vertical-align: middle;\n",
       "    }\n",
       "\n",
       "    .dataframe tbody tr th {\n",
       "        vertical-align: top;\n",
       "    }\n",
       "\n",
       "    .dataframe thead th {\n",
       "        text-align: right;\n",
       "    }\n",
       "</style>\n",
       "<table border=\"1\" class=\"dataframe\">\n",
       "  <thead>\n",
       "    <tr style=\"text-align: right;\">\n",
       "      <th></th>\n",
       "      <th>KPI200</th>\n",
       "      <th>KOSDAQ</th>\n",
       "    </tr>\n",
       "  </thead>\n",
       "  <tbody>\n",
       "    <tr>\n",
       "      <th>2019-02-01</th>\n",
       "      <td>285.79</td>\n",
       "      <td>716.92</td>\n",
       "    </tr>\n",
       "    <tr>\n",
       "      <th>2019-02-07</th>\n",
       "      <td>285.65</td>\n",
       "      <td>728.79</td>\n",
       "    </tr>\n",
       "    <tr>\n",
       "      <th>2019-02-08</th>\n",
       "      <td>281.49</td>\n",
       "      <td>728.74</td>\n",
       "    </tr>\n",
       "    <tr>\n",
       "      <th>2019-02-11</th>\n",
       "      <td>282.10</td>\n",
       "      <td>733.47</td>\n",
       "    </tr>\n",
       "    <tr>\n",
       "      <th>2019-02-12</th>\n",
       "      <td>283.69</td>\n",
       "      <td>730.58</td>\n",
       "    </tr>\n",
       "    <tr>\n",
       "      <th>2019-02-13</th>\n",
       "      <td>284.97</td>\n",
       "      <td>739.91</td>\n",
       "    </tr>\n",
       "    <tr>\n",
       "      <th>2019-02-14</th>\n",
       "      <td>288.68</td>\n",
       "      <td>742.27</td>\n",
       "    </tr>\n",
       "    <tr>\n",
       "      <th>2019-02-15</th>\n",
       "      <td>283.98</td>\n",
       "      <td>738.66</td>\n",
       "    </tr>\n",
       "    <tr>\n",
       "      <th>2019-02-18</th>\n",
       "      <td>285.90</td>\n",
       "      <td>745.33</td>\n",
       "    </tr>\n",
       "    <tr>\n",
       "      <th>2019-02-19</th>\n",
       "      <td>284.91</td>\n",
       "      <td>748.05</td>\n",
       "    </tr>\n",
       "  </tbody>\n",
       "</table>\n",
       "</div>"
      ],
      "text/plain": [
       "            KPI200  KOSDAQ\n",
       "2019-02-01  285.79  716.92\n",
       "2019-02-07  285.65  728.79\n",
       "2019-02-08  281.49  728.74\n",
       "2019-02-11  282.10  733.47\n",
       "2019-02-12  283.69  730.58\n",
       "2019-02-13  284.97  739.91\n",
       "2019-02-14  288.68  742.27\n",
       "2019-02-15  283.98  738.66\n",
       "2019-02-18  285.90  745.33\n",
       "2019-02-19  284.91  748.05"
      ]
     },
     "execution_count": 9,
     "metadata": {},
     "output_type": "execute_result"
    }
   ],
   "source": [
    "import pandas as pd\n",
    "df = pd.DataFrame(tmp)\n",
    "#데이터 보간\n",
    "df = df.fillna(method=\"ffill\")\n",
    "if df.isnull().values.any():\n",
    "    df = df.fillna(method=\"bfill\")\n",
    "df.head(10)"
   ]
  },
  {
   "cell_type": "code",
   "execution_count": 10,
   "metadata": {
    "scrolled": true
   },
   "outputs": [
    {
     "data": {
      "image/png": "[encoded data removed]",
      "text/plain": [
       "<Figure size 1080x360 with 1 Axes>"
      ]
     },
     "metadata": {
      "needs_background": "light"
     },
     "output_type": "display_data"
    }
   ],
   "source": [
    "import matplotlib.pyplot as plt\n",
    "%matplotlib inline\n",
    "#설정\n",
    "df_ratio = df.iloc[0:]/df.iloc[0] *100\n",
    "plt.figure(figsize=(15,5)) #크기 조절\n",
    "plt.plot(df_ratio['KPI200'] ) # 데이터 선택\n",
    "plt.plot(df_ratio['KOSDAQ'] )\n",
    "plt.legend(loc=0) # 범례 위치 지정\n",
    "plt.grid(True, color='0.7',linestyle=\":\",linewidth=1) # 그리드 설정"
   ]
  },
  {
   "cell_type": "code",
   "execution_count": null,
   "metadata": {},
   "outputs": [],
   "source": []
  },
  {
   "cell_type": "code",
   "execution_count": 14,
   "metadata": {},
   "outputs": [
    {
     "data": {
      "text/plain": [
       "{'Slope': 0.1832201404963507,\n",
       " 'Intercept': 85.3405454537293,\n",
       " 'R^2': 0.04167462842695657}"
      ]
     },
     "execution_count": 14,
     "metadata": {},
     "output_type": "execute_result"
    }
   ],
   "source": [
    "import numpy as np\n",
    "from sklearn.linear_model import LinearRegression\n",
    "\n",
    "x = df_ratio['KPI200']\n",
    "y = df_ratio['KOSDAQ']\n",
    "\n",
    "# 한개 칼럼 np.array 로 변환\n",
    "independent_var = np.array(x).reshape(-1,1)\n",
    "dependent_var = np.array(y).reshape(-1,1)\n",
    "\n",
    "#linear regression\n",
    "regr = LinearRegression()\n",
    "regr.fit(independent_var,dependent_var)\n",
    "\n",
    "result ={'Slope': regr.coef_[0,0], 'Intercept' : regr.intercept_[0], 'R^2' : regr.score(independent_var,dependent_var)}\n",
    "result"
   ]
  },
  {
   "cell_type": "code",
   "execution_count": 16,
   "metadata": {},
   "outputs": [
    {
     "data": {
      "text/plain": [
       "Text(0, 0.5, 'KOSDAQ')"
      ]
     },
     "execution_count": 16,
     "metadata": {},
     "output_type": "execute_result"
    },
    {
     "data": {
      "image/png": "[encoded data removed]",
      "text/plain": [
       "<Figure size 360x360 with 1 Axes>"
      ]
     },
     "metadata": {
      "needs_background": "light"
     },
     "output_type": "display_data"
    }
   ],
   "source": [
    "plt.figure(figsize=(5,5))\n",
    "plt.scatter(df_ratio['KPI200'],df_ratio['KOSDAQ'],marker='.')\n",
    "plt.plot(independent_var, regr.predict(independent_var), color='r', linewidth=3)\n",
    "plt.grid(True, color='0.7', linestyle=\":\", linewidth=1)\n",
    "plt.xlabel('KPI200')\n",
    "plt.ylabel('KOSDAQ')"
   ]
  },
  {
   "cell_type": "code",
   "execution_count": null,
   "metadata": {},
   "outputs": [],
   "source": []
  }
 ],
 "metadata": {
  "kernelspec": {
   "display_name": "Python 3",
   "language": "python",
   "name": "python3"
  },
  "language_info": {
   "codemirror_mode": {
    "name": "ipython",
    "version": 3
   },
   "file_extension": ".py",
   "mimetype": "text/x-python",
   "name": "python",
   "nbconvert_exporter": "python",
   "pygments_lexer": "ipython3",
   "version": "3.7.1"
  }
 },
 "nbformat": 4,
 "nbformat_minor": 2
}
