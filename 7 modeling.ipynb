{
 "cells": [
  {
   "cell_type": "code",
   "execution_count": 7,
   "metadata": {},
   "outputs": [],
   "source": [
    "from bs4 import BeautifulSoup as bs\n",
    "import datetime as dt\n",
    "from urllib.request import urlopen"
   ]
  },
  {
   "cell_type": "code",
   "execution_count": null,
   "metadata": {},
   "outputs": [],
   "source": []
  },
  {
   "cell_type": "code",
   "execution_count": 3,
   "metadata": {},
   "outputs": [],
   "source": [
    "def date_format(d):\n",
    "    d= str(d).replace('-','.')\n",
    "    yyyy = int(d.split('.')[0])\n",
    "    mm = int(d.split('.')[1])\n",
    "    dd = int(d.split('.')[2])\n",
    "    this_date = dt.date(yyyy,mm,dd)\n",
    "    return this_date"
   ]
  },
  {
   "cell_type": "code",
   "execution_count": 34,
   "metadata": {},
   "outputs": [],
   "source": [
    "def his_naver_index(index_cd, start_date='', end_date='', page_n=1, last_page=0):\n",
    "    # date 정리\n",
    "    if start_date:   # start_date가 있으면\n",
    "        start_date = date_format(start_date)   # date 포맷으로 변환\n",
    "    else:    # 없으면\n",
    "        start_date = dt.date.today()   # 오늘 날짜를 지정\n",
    "    if end_date:   \n",
    "        end_date = date_format(end_date)   \n",
    "    else:   \n",
    "        end_date = dt.date.today()  \n",
    "    # bs 하기 및 저장\n",
    "    naver_index = 'http://finance.naver.com/sise/sise_index_day.nhn?code=' + index_cd + '&page=' + str(page_n)\n",
    "    source = urlopen(naver_index).read()\n",
    "    source = bs(source,'lxml')\n",
    "    dates = source.find_all('td',class_=\"date\")\n",
    "    prices = source.find_all('td',class_=\"number_1\")\n",
    "    # 사이 값만 저장하기\n",
    "    for n in range(len(dates)) :\n",
    "        if dates[n].text.split('.')[0].isdigit() :\n",
    "            #날짜 처리\n",
    "            this_date = dates[n].text\n",
    "            this_date = date_format(this_date)\n",
    "            # 사이값 저장\n",
    "            if this_date <= end_date and this_date >= start_date:\n",
    "                this_close = prices[n*4].text\n",
    "                this_close = this_close.replace(',', '')\n",
    "                this_close = float(this_close)\n",
    "                #딕셔너리에 저장\n",
    "                his_prices[this_date] = this_close\n",
    "            elif this_date < start_date :\n",
    "                return his_prices\n",
    "    if last_page == 0:\n",
    "        last_page = source.find('td', class_='pgRR').find('a')['href']\n",
    "        # 마지막페이지 주소 추출\n",
    "        last_page = last_page.split('&')[1]   # & 뒤의 page=506 부분 추출\n",
    "        last_page = last_page.split('=')[1]   # = 뒤의 페이지번호만 추출\n",
    "        last_page = int(last_page)   # 숫자형 변수로 변환\n",
    "        \n",
    "    # 다음 페이지 호출\n",
    "    if page_n < last_page:   \n",
    "        page_n = page_n + 1   \n",
    "        his_naver_index(index_cd, start_date, end_date, page_n, last_page)   \n",
    "        \n",
    "    return his_naver_index  "
   ]
  },
  {
   "cell_type": "code",
   "execution_count": 37,
   "metadata": {},
   "outputs": [
    {
     "data": {
      "text/plain": [
       "{datetime.date(2019, 4, 4): 286.15,\n",
       " datetime.date(2019, 4, 3): 285.65,\n",
       " datetime.date(2019, 4, 2): 281.72,\n",
       " datetime.date(2019, 4, 1): 280.32,\n",
       " datetime.date(2019, 3, 29): 276.48,\n",
       " datetime.date(2019, 3, 28): 275.08,\n",
       " datetime.date(2019, 3, 27): 277.28,\n",
       " datetime.date(2019, 3, 26): 277.6,\n",
       " datetime.date(2019, 3, 25): 277.45,\n",
       " datetime.date(2019, 3, 22): 283.13,\n",
       " datetime.date(2019, 3, 21): 282.38,\n",
       " datetime.date(2019, 3, 20): 279.92,\n",
       " datetime.date(2019, 3, 19): 279.82,\n",
       " datetime.date(2019, 3, 18): 279.93,\n",
       " datetime.date(2019, 3, 15): 279.87,\n",
       " datetime.date(2019, 3, 14): 276.64,\n",
       " datetime.date(2019, 3, 13): 276.0,\n",
       " datetime.date(2019, 3, 12): 277.73,\n",
       " datetime.date(2019, 3, 11): 275.06,\n",
       " datetime.date(2019, 3, 8): 274.84,\n",
       " datetime.date(2019, 3, 7): 278.87,\n",
       " datetime.date(2019, 3, 6): 279.85,\n",
       " datetime.date(2019, 3, 5): 280.45,\n",
       " datetime.date(2019, 3, 4): 282.51,\n",
       " datetime.date(2019, 2, 28): 283.8,\n",
       " datetime.date(2019, 2, 27): 288.76,\n",
       " datetime.date(2019, 2, 26): 287.89,\n",
       " datetime.date(2019, 2, 25): 289.0,\n",
       " datetime.date(2019, 2, 22): 288.74,\n",
       " datetime.date(2019, 2, 21): 288.41,\n",
       " datetime.date(2019, 2, 20): 288.4,\n",
       " datetime.date(2019, 2, 19): 284.91,\n",
       " datetime.date(2019, 2, 18): 285.9,\n",
       " datetime.date(2019, 2, 15): 283.98,\n",
       " datetime.date(2019, 2, 14): 288.68,\n",
       " datetime.date(2019, 2, 13): 284.97,\n",
       " datetime.date(2019, 2, 12): 283.69,\n",
       " datetime.date(2019, 2, 11): 282.1,\n",
       " datetime.date(2019, 2, 8): 281.49,\n",
       " datetime.date(2019, 2, 7): 285.65,\n",
       " datetime.date(2019, 2, 1): 285.79}"
      ]
     },
     "execution_count": 37,
     "metadata": {},
     "output_type": "execute_result"
    }
   ],
   "source": [
    "index_cd = 'KPI200'\n",
    "his_prices = dict()\n",
    "his_naver_index(index_cd,'2019-2-1','2019-4-4')\n",
    "his_prices"
   ]
  },
  {
   "cell_type": "code",
   "execution_count": null,
   "metadata": {},
   "outputs": [],
   "source": [
    "#페이지 네비게이션\n",
    "    if last_page == 0 :\n",
    "        last_page = source.find('td', class_='pgRR').find('a')['href']\n",
    "        last_page = last_page.split('&')[1]\n",
    "        last_page = last_page.split('=')[1]\n",
    "        last_page = int(last_page)\n",
    "    #다음 페이지 호출\n",
    "    if page_n < last_page :\n",
    "        page_n = page_n +1\n",
    "        his_naver_index(index_cd, start_date, end_date, page_n, last_page)\n",
    "    return his_prices"
   ]
  }
 ],
 "metadata": {
  "kernelspec": {
   "display_name": "Python 3",
   "language": "python",
   "name": "python3"
  },
  "language_info": {
   "codemirror_mode": {
    "name": "ipython",
    "version": 3
   },
   "file_extension": ".py",
   "mimetype": "text/x-python",
   "name": "python",
   "nbconvert_exporter": "python",
   "pygments_lexer": "ipython3",
   "version": "3.7.1"
  }
 },
 "nbformat": 4,
 "nbformat_minor": 2
}
